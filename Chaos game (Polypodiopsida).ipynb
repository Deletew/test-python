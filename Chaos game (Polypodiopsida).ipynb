{
 "cells": [
  {
   "cell_type": "code",
   "execution_count": 1,
   "metadata": {},
   "outputs": [],
   "source": [
    "import random\n",
    "import stddraw"
   ]
  },
  {
   "cell_type": "code",
   "execution_count": 2,
   "metadata": {},
   "outputs": [],
   "source": [
    "x , y =0 , 0"
   ]
  },
  {
   "cell_type": "code",
   "execution_count": 3,
   "metadata": {},
   "outputs": [
    {
     "ename": "SystemExit",
     "evalue": "",
     "output_type": "error",
     "traceback": [
      "An exception has occurred, use %tb to see the full traceback.\n",
      "\u001b[1;31mSystemExit\u001b[0m\n"
     ]
    },
    {
     "name": "stderr",
     "output_type": "stream",
     "text": [
      "C:\\Users\\pojy\\anaconda3\\lib\\site-packages\\IPython\\core\\interactiveshell.py:3339: UserWarning: To exit: use 'exit', 'quit', or Ctrl-D.\n",
      "  warn(\"To exit: use 'exit', 'quit', or Ctrl-D.\", stacklevel=1)\n"
     ]
    }
   ],
   "source": [
    "stddraw.setPenColor(stddraw.BLUE)\n",
    "for i in range(10000):\n",
    "    ran=random.random()\n",
    "    if ran<0.01 :\n",
    "        x=0.5\n",
    "        y=0.28*y\n",
    "        stddraw.point(x,y)\n",
    "    elif 0.01<ran<0.13 :\n",
    "        x=-0.14*x+0.26*y+0.57\n",
    "        y=0.25*x+0.22*y-0.04\n",
    "        stddraw.point(x,y)\n",
    "    elif 0.13<ran<0.20 :\n",
    "        x=0.17*x-0.21*y+0.41\n",
    "        y=0.22*x+0.18*y+0.09\n",
    "        stddraw.point(x,y)\n",
    "    elif 0.20<ran<1 :\n",
    "        x=0.78*x+0.03*y+0.11\n",
    "        y=-0.03*x+0.74*y+0.27 \n",
    "        stddraw.point(x,y)\n",
    "        stddraw.show(1)\n",
    "        \n",
    "stddraw.show()"
   ]
  },
  {
   "cell_type": "code",
   "execution_count": null,
   "metadata": {},
   "outputs": [],
   "source": []
  }
 ],
 "metadata": {
  "kernelspec": {
   "display_name": "Python 3",
   "language": "python",
   "name": "python3"
  },
  "language_info": {
   "codemirror_mode": {
    "name": "ipython",
    "version": 3
   },
   "file_extension": ".py",
   "mimetype": "text/x-python",
   "name": "python",
   "nbconvert_exporter": "python",
   "pygments_lexer": "ipython3",
   "version": "3.7.6"
  }
 },
 "nbformat": 4,
 "nbformat_minor": 4
}
